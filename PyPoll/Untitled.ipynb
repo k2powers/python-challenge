{
 "cells": [
  {
   "cell_type": "code",
   "execution_count": 70,
   "metadata": {},
   "outputs": [],
   "source": [
    "# create variables I need\n",
    "totVotes = 0\n",
    "candidate = \"start\"\n",
    "candidates_names = []\n",
    "candidates_votes = []\n",
    "candidates = {}\n"
   ]
  },
  {
   "cell_type": "code",
   "execution_count": 76,
   "metadata": {},
   "outputs": [
    {
     "name": "stdout",
     "output_type": "stream",
     "text": [
      "Voter ID,County,Candidate\n",
      "\n",
      "7042002\n",
      "{'Khan': 4436462, 'Correy': 1408400, 'Li': 985880, \"O'Tooley\": 211260}\n"
     ]
    }
   ],
   "source": [
    "# Create the path to the file I'm pulling data from\n",
    "csvpath = os.path.join( 'Resources', 'election_data.csv')\n",
    "# create a variable to define the read/write method to use on the file\n",
    "with open(csvpath, newline='') as csvfile:\n",
    "# Create the reader and define the delimiter\n",
    "    csvreader = csv.reader(csvfile, delimiter=',')\n",
    "# check if there is a header, and skip it if there is\n",
    "    if csv.Sniffer().has_header(open(csvpath).read(1024)):\n",
    "        csv_header = next(csvfile)\n",
    "    print(csv_header)\n",
    "    # Starting with the first row of data, loop through to calculate:\n",
    "    for row in csvreader:\n",
    "    # The total number of votes cast\n",
    "        # For each line, add 1 to totVotes\n",
    "        totVotes = totVotes + 1\n",
    "        # A complete list of candidates who received votes\n",
    "        # Look through each row, at col 2, if candidate name isn't in \n",
    "        # the candidates list, add it\n",
    "        if row[2] in candidates:\n",
    "            candidates[row[2]] += 1\n",
    "        else:\n",
    "            candidates[row[2]] = 1\n",
    "    print(totVotes)\n",
    "    print(candidates)"
   ]
  },
  {
   "cell_type": "code",
   "execution_count": 77,
   "metadata": {},
   "outputs": [
    {
     "name": "stdout",
     "output_type": "stream",
     "text": [
      "2.999999147969569\n"
     ]
    }
   ],
   "source": [
    "for key in candidates:    \n",
    "    percentage = candidates[key]*100/totVotes\n",
    "print(percentage)"
   ]
  },
  {
   "cell_type": "code",
   "execution_count": 78,
   "metadata": {},
   "outputs": [
    {
     "name": "stdout",
     "output_type": "stream",
     "text": [
      "Election Results\n",
      "-------------------------\n",
      "Total Votes:  7,042,002\n",
      "{'Khan': 4436462, 'Correy': 1408400, 'Li': 985880, \"O'Tooley\": 211260}\n"
     ]
    }
   ],
   "source": [
    "print(\"Election Results\")\n",
    "print(\"-------------------------\")\n",
    "print(\"Total Votes: \", '{:,.0f}'.format(totVotes))\n",
    "print(candidates)"
   ]
  },
  {
   "cell_type": "code",
   "execution_count": null,
   "metadata": {},
   "outputs": [],
   "source": []
  },
  {
   "cell_type": "code",
   "execution_count": null,
   "metadata": {},
   "outputs": [],
   "source": []
  }
 ],
 "metadata": {
  "kernelspec": {
   "display_name": "Python 3",
   "language": "python",
   "name": "python3"
  },
  "language_info": {
   "codemirror_mode": {
    "name": "ipython",
    "version": 3
   },
   "file_extension": ".py",
   "mimetype": "text/x-python",
   "name": "python",
   "nbconvert_exporter": "python",
   "pygments_lexer": "ipython3",
   "version": "3.7.0"
  }
 },
 "nbformat": 4,
 "nbformat_minor": 2
}
